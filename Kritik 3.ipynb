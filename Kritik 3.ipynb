{
 "cells": [
  {
   "cell_type": "code",
   "execution_count": 1,
   "id": "e9934e5e-bf62-47fd-8f7a-e75b495c43c2",
   "metadata": {},
   "outputs": [
    {
     "name": "stdout",
     "output_type": "stream",
     "text": [
      "(0.6837600000014392, 1.3162400000020718)\n",
      "(0.3778481633986249, 1.1427181633974066)\n",
      "(-0.1448500000000041, 0.13817999999999742)\n"
     ]
    }
   ],
   "source": [
    "import time\n",
    "import numpy as np\n",
    "def quadratic(x):\n",
    "    return x**2\n",
    "\n",
    "def sin(x):\n",
    "    return np.sin(x)\n",
    "\n",
    "def exponential(x):\n",
    "    return np.exp(x)\n",
    "\n",
    "def lina(f,c,E):\n",
    "    dx=1e-8\n",
    "    d=(f(c+dx)-f(c-dx))/(2*dx)\n",
    "\n",
    "    x1=c\n",
    "    x2=c\n",
    "\n",
    "    err1=abs(f(x1)-f(c)-(d*(x1-c)))\n",
    "    err2=abs(f(x2)-f(c)-(d*(x2-c)))\n",
    "\n",
    "    while err1<E:\n",
    "        err1=abs(f(x1)-f(c)-(d*(x1-c)))\n",
    "        x1-=1e-5\n",
    "\n",
    "    while err2<E:\n",
    "        err2=abs(f(x2)-f(c)-(d*(x2-c)))\n",
    "        x2+=1e-5\n",
    "\n",
    "    return float(x1), float(x2)\n",
    "\n",
    "print(lina(quadratic,1,0.1))\n",
    "print(lina(sin,np.pi/4,0.05))\n",
    "print(lina(exponential,0,0.01))\n",
    "\n"
   ]
  },
  {
   "cell_type": "code",
   "execution_count": null,
   "id": "504a701b-f2ad-48b2-9fc2-25f8949a0633",
   "metadata": {},
   "outputs": [],
   "source": []
  }
 ],
 "metadata": {
  "kernelspec": {
   "display_name": "Python 3 (ipykernel)",
   "language": "python",
   "name": "python3"
  },
  "language_info": {
   "codemirror_mode": {
    "name": "ipython",
    "version": 3
   },
   "file_extension": ".py",
   "mimetype": "text/x-python",
   "name": "python",
   "nbconvert_exporter": "python",
   "pygments_lexer": "ipython3",
   "version": "3.11.9"
  }
 },
 "nbformat": 4,
 "nbformat_minor": 5
}
