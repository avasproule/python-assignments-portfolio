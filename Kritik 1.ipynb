{
 "cells": [
  {
   "cell_type": "code",
   "id": "initial_id",
   "metadata": {
    "collapsed": true,
    "ExecuteTime": {
     "end_time": "2024-09-30T01:31:19.745268Z",
     "start_time": "2024-09-30T01:31:13.383874Z"
    }
   },
   "source": [
    "x = float(input(\"input \"))\n",
    "def pizza(x):\n",
    "    if input != x>=0 and x<=1:\n",
    "        def res(a,b):\n",
    "            y = (a**((2*b)+1)/((2*b)+1))\n",
    "            return y\n",
    "        n=0\n",
    "        while res(x,n)>=0.0001:\n",
    "            n += 1\n",
    "        i=0\n",
    "        c=0\n",
    "        f=0\n",
    "        while i<=(n-1):\n",
    "            c = (((-1)**i)*(x**((2*i)+1)))/((2*i)+1)\n",
    "            f = f + c\n",
    "            i += 1\n",
    "        answer = (f,n,res(x,n))\n",
    "        print(answer)\n",
    "    else:\n",
    "        print(\"wrong\")\n",
    "print(pizza(x))\n",
    "\n",
    "\n",
    "\n"
   ],
   "outputs": [
    {
     "name": "stdout",
     "output_type": "stream",
     "text": [
      "(0.46368427579365074, 5, 4.438920454545455e-05)\n",
      "None\n"
     ]
    }
   ],
   "execution_count": 2
  }
 ],
 "metadata": {
  "kernelspec": {
   "display_name": "Python 3",
   "language": "python",
   "name": "python3"
  },
  "language_info": {
   "codemirror_mode": {
    "name": "ipython",
    "version": 2
   },
   "file_extension": ".py",
   "mimetype": "text/x-python",
   "name": "python",
   "nbconvert_exporter": "python",
   "pygments_lexer": "ipython2",
   "version": "2.7.6"
  }
 },
 "nbformat": 4,
 "nbformat_minor": 5
}
