{
 "cells": [
  {
   "cell_type": "code",
   "execution_count": 1,
   "id": "a3b5bde6-31c4-4b45-9f6e-6d0e5f0884f6",
   "metadata": {},
   "outputs": [
    {
     "name": "stdout",
     "output_type": "stream",
     "text": [
      "Mean: 82.382\n",
      "Standard Deviation: 10.193467189005581\n",
      "Sum of values: 823.82\n"
     ]
    }
   ],
   "source": [
    "import numpy as np\n",
    "from scipy.special import gamma\n",
    "from itertools import accumulate\n",
    "\n",
    "# Given data\n",
    "values = [92.64, 79.00, 84.79, 97.41, 93.68, 65.23, 84.50, 73.49, 73.97, 79.11]\n",
    "\n",
    "# Sample size\n",
    "n = len(values)\n",
    "\n",
    "# Mean calculation\n",
    "mean_value = sum(values) / n\n",
    "\n",
    "# Standard deviation calculation (sample standard deviation)\n",
    "std_dev = np.sqrt(sum((x - mean_value) ** 2 for x in values) / (n - 1))\n",
    "\n",
    "def t_distribution_pdf(x, nu):\n",
    "    \"\"\"Compute the probability density function of the t-distribution.\"\"\"\n",
    "    coeff = gamma((nu + 1) / 2) / (np.sqrt(nu * np.pi) * gamma(nu / 2))\n",
    "    density = coeff * (1 + x**2 / nu) ** (-0.5 * (nu + 1))\n",
    "    return density\n",
    "\n",
    "def find_t_star(prob, nu, x_start=0, x_end=20, num_points=10000):\n",
    "    \"\"\"Find the critical t-value for a given probability and degrees of freedom.\"\"\"\n",
    "    x = np.linspace(x_start, x_end, num_points)\n",
    "    y = t_distribution_pdf(x, nu)\n",
    "    cdf = np.cumsum(y) * (x[1] - x[0])  # Approximate integration\n",
    "    \n",
    "    target_half_prob = prob / 2\n",
    "    index = np.where(cdf >= target_half_prob)[0][0]\n",
    "    return x[index]\n",
    "\n",
    "# Print results\n",
    "print(\"Mean:\", mean_value)\n",
    "print(\"Standard Deviation:\", std_dev)\n",
    "print(\"Sum of values:\", sum(values))"
   ]
  },
  {
   "cell_type": "code",
   "execution_count": null,
   "id": "0a407671-2033-4ee5-8e39-07704b15d43e",
   "metadata": {},
   "outputs": [],
   "source": []
  }
 ],
 "metadata": {
  "kernelspec": {
   "display_name": "Python 3 (ipykernel)",
   "language": "python",
   "name": "python3"
  },
  "language_info": {
   "codemirror_mode": {
    "name": "ipython",
    "version": 3
   },
   "file_extension": ".py",
   "mimetype": "text/x-python",
   "name": "python",
   "nbconvert_exporter": "python",
   "pygments_lexer": "ipython3",
   "version": "3.12.8"
  }
 },
 "nbformat": 4,
 "nbformat_minor": 5
}
