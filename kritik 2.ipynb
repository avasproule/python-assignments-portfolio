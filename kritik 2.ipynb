{
 "cells": [
  {
   "cell_type": "code",
   "execution_count": 10,
   "id": "ed15cfe0-a46e-48d2-93bc-d2864951c829",
   "metadata": {},
   "outputs": [
    {
     "name": "stdout",
     "output_type": "stream",
     "text": [
      "root of f1 on interval: 0.2698741375294049\n",
      "root of f2 on interval: 0\n",
      "root of f3 on interval: 3.141592653642874\n",
      "root of f4 on interval: None\n"
     ]
    }
   ],
   "source": [
    "import numpy as np\n",
    "\n",
    "def roots(f, a, b, tol=1e-10, max_iter=1000):\n",
    "\n",
    "    if f(a) == 0:\n",
    "        return a\n",
    "    if f(b) == 0:\n",
    "        return b\n",
    "\n",
    "    if f(a) * f(b) >= 0:\n",
    "        return None\n",
    "\n",
    "    iteration = 0\n",
    "    while (b - a)/ 2 > tol and iteration < max_iter:\n",
    "        c = (a + b) / 2\n",
    "        if f(c) == 0 or (b - a) / 2 < tol:\n",
    "            return c\n",
    "        iteration += 1\n",
    "        if f(a) * f(c) < 0:\n",
    "            b = c\n",
    "        else:\n",
    "            a = c\n",
    "    return (a + b) / 2\n",
    "\n",
    "def f1(x):\n",
    "    return np.exp(x) + np.log(x)\n",
    "\n",
    "def f2(x):\n",
    "    return np.arctan(x) - x ** 2\n",
    "\n",
    "def f3(x):\n",
    "    return np.sin(x) / np.log(x)\n",
    "\n",
    "def f4(x):\n",
    "    return np.log (np.cos(x))\n",
    "\n",
    "root1 = roots(f1, 0.1, 1)\n",
    "root2 = roots(f2, 0, 2)\n",
    "root3 = roots(f3, 3, 4)\n",
    "root4 = roots(f4, 5, 7)\n",
    "\n",
    "print(\"root of f1 on interval:\", root1)\n",
    "print(\"root of f2 on interval:\", root2)\n",
    "print(\"root of f3 on interval:\", root3)\n",
    "print(\"root of f4 on interval:\", root4)\n"
   ]
  },
  {
   "cell_type": "code",
   "execution_count": null,
   "id": "248ac5a0-dbcc-4f8a-b4b5-00b9db40ac4f",
   "metadata": {},
   "outputs": [],
   "source": []
  },
  {
   "cell_type": "code",
   "execution_count": null,
   "id": "f25e22a2-ecbb-48ee-8246-662ec4e5ae93",
   "metadata": {},
   "outputs": [],
   "source": []
  },
  {
   "cell_type": "code",
   "execution_count": null,
   "id": "5f8659f2-6d7d-4540-b149-de3cd6d6e4cb",
   "metadata": {},
   "outputs": [],
   "source": []
  },
  {
   "cell_type": "code",
   "execution_count": null,
   "id": "df689bc8-affa-48b6-91d5-159bc9376a69",
   "metadata": {},
   "outputs": [],
   "source": []
  },
  {
   "cell_type": "code",
   "execution_count": null,
   "id": "3eee287f-408c-4a6c-a2ac-f05df229be22",
   "metadata": {},
   "outputs": [],
   "source": []
  }
 ],
 "metadata": {
  "kernelspec": {
   "display_name": "Python 3 (ipykernel)",
   "language": "python",
   "name": "python3"
  },
  "language_info": {
   "codemirror_mode": {
    "name": "ipython",
    "version": 3
   },
   "file_extension": ".py",
   "mimetype": "text/x-python",
   "name": "python",
   "nbconvert_exporter": "python",
   "pygments_lexer": "ipython3",
   "version": "3.11.9"
  }
 },
 "nbformat": 4,
 "nbformat_minor": 5
}
